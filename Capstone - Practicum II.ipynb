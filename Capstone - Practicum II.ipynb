{
 "cells": [
  {
   "cell_type": "markdown",
   "metadata": {},
   "source": [
    "# What kind of movies are you interested in watching?"
   ]
  },
  {
   "cell_type": "markdown",
   "metadata": {},
   "source": [
    "## Movie Recommendation using Collaborative and Content Based Filtering "
   ]
  },
  {
   "cell_type": "markdown",
   "metadata": {},
   "source": [
    "There are two types of recommendation systems, Content-Based and Collaborative Filtering. Collaborative Filtering focuses on the similarity attribute of the users and it finds people with similar tastes based on a similarity measure from the large group of users. In contrast, content-based recommendation systems focus on the attributes of the items and give you recommendations based on the similarity between them."
   ]
  },
  {
   "cell_type": "markdown",
   "metadata": {},
   "source": [
    "In **Collaborative Filtering**, this recommendation system makes predictions of what might interest a person based on the taste of many other users. It assumes that if person X likes comedy movies, and person Y likes comedy movies and family movies, then person X might like family movies as well. There are two types of this recommender filter:"
   ]
  },
  {
   "cell_type": "markdown",
   "metadata": {},
   "source": [
    "**User-User**: It identifies other people with similar tastes to a target user and combines their ratings to make recommendations for that user. \n",
    "\n",
    "**Item-Item**: Itidentifies global product associations from user ratings, but uses these product associations to provide personalized recommendations based on a user's own product ratings"
   ]
  },
  {
   "cell_type": "markdown",
   "metadata": {},
   "source": [
    "In **Content-Based Filtering**, this recommendation system focuses on the products themselves and recommends other products that have similar attributes. It relies on the characteristics of the products themselves, so it doesn’t rely on other users to interact with the products before making a recommendation."
   ]
  },
  {
   "cell_type": "markdown",
   "metadata": {},
   "source": [
    "In this notebook, I will attempt at implementing these two systems to recommend movies and evaluate them to see which one performs better.\n",
    "- Background on the MovieLens dataset for recommender system.\n",
    "- How to load and process the data.\n",
    "- How to do exploratory data analysis.\n",
    "- The 2 different types of recommendation engines.\n",
    "- How to develop a collaborative filtering model based on user ratings.\n",
    "- How to develop a content-based recommendation model based on movie genres."
   ]
  },
  {
   "cell_type": "markdown",
   "metadata": {},
   "source": [
    "## The MovieLens Dataset"
   ]
  },
  {
   "cell_type": "markdown",
   "metadata": {},
   "source": [
    "The MovieLens datasets are full of data describing how people rate movies. As it turns out, these datasets have been useful to lots of folks, from recommender systems researchers to the readers of popular-press programming books.\n",
    "It was collected by GroupLens researchers over various periods of time and by far the most popular when it comes to implementing a recommender system.  \n",
    "\n",
    "These datasets will change over time, and are not appropriate for reporting research results. I choose to use the smallest datasets with 100,000 ratings with 9,000 movies by 700 users. They were last updated 10/2016."
   ]
  },
  {
   "cell_type": "code",
   "execution_count": 1,
   "metadata": {},
   "outputs": [],
   "source": [
    "import numpy as np\n",
    "import pandas as pd\n",
    "import seaborn as sns\n",
    "import matplotlib.pyplot as plt\n",
    "from math import sqrt\n",
    "from wordcloud import WordCloud, STOPWORDS\n",
    "from sklearn.feature_extraction.text import TfidfVectorizer\n",
    "from numpy import linalg as LA\n",
    "from sklearn.metrics import mean_squared_error\n",
    "from sklearn.metrics.pairwise import cosine_similarity\n",
    "from sklearn.model_selection import train_test_split\n",
    "from scipy.sparse.linalg import svds\n",
    "from numpy import linalg as LA"
   ]
  },
  {
   "cell_type": "markdown",
   "metadata": {},
   "source": [
    "## Data Preparation"
   ]
  },
  {
   "cell_type": "markdown",
   "metadata": {},
   "source": [
    "First, we begin to load the two datasets, ratings and movies. Fortunately, they were already in csv so, it was easier to load them into memory as a dataframe. "
   ]
  },
  {
   "cell_type": "code",
   "execution_count": 2,
   "metadata": {},
   "outputs": [],
   "source": [
    "ratings = pd.read_csv('ratings.csv')# read in ratings dataset\n",
    "movies = pd.read_csv('movies.csv')# read in movies dataset"
   ]
  },
  {
   "cell_type": "markdown",
   "metadata": {},
   "source": [
    "We need to look at the first few rows of the ratings dataframe. "
   ]
  },
  {
   "cell_type": "code",
   "execution_count": 3,
   "metadata": {},
   "outputs": [
    {
     "data": {
      "text/html": [
       "<div>\n",
       "<style scoped>\n",
       "    .dataframe tbody tr th:only-of-type {\n",
       "        vertical-align: middle;\n",
       "    }\n",
       "\n",
       "    .dataframe tbody tr th {\n",
       "        vertical-align: top;\n",
       "    }\n",
       "\n",
       "    .dataframe thead th {\n",
       "        text-align: right;\n",
       "    }\n",
       "</style>\n",
       "<table border=\"1\" class=\"dataframe\">\n",
       "  <thead>\n",
       "    <tr style=\"text-align: right;\">\n",
       "      <th></th>\n",
       "      <th>userId</th>\n",
       "      <th>movieId</th>\n",
       "      <th>rating</th>\n",
       "      <th>timestamp</th>\n",
       "    </tr>\n",
       "  </thead>\n",
       "  <tbody>\n",
       "    <tr>\n",
       "      <th>0</th>\n",
       "      <td>1</td>\n",
       "      <td>31</td>\n",
       "      <td>2.5</td>\n",
       "      <td>1260759144</td>\n",
       "    </tr>\n",
       "    <tr>\n",
       "      <th>1</th>\n",
       "      <td>1</td>\n",
       "      <td>1029</td>\n",
       "      <td>3.0</td>\n",
       "      <td>1260759179</td>\n",
       "    </tr>\n",
       "    <tr>\n",
       "      <th>2</th>\n",
       "      <td>1</td>\n",
       "      <td>1061</td>\n",
       "      <td>3.0</td>\n",
       "      <td>1260759182</td>\n",
       "    </tr>\n",
       "    <tr>\n",
       "      <th>3</th>\n",
       "      <td>1</td>\n",
       "      <td>1129</td>\n",
       "      <td>2.0</td>\n",
       "      <td>1260759185</td>\n",
       "    </tr>\n",
       "    <tr>\n",
       "      <th>4</th>\n",
       "      <td>1</td>\n",
       "      <td>1172</td>\n",
       "      <td>4.0</td>\n",
       "      <td>1260759205</td>\n",
       "    </tr>\n",
       "  </tbody>\n",
       "</table>\n",
       "</div>"
      ],
      "text/plain": [
       "   userId  movieId  rating   timestamp\n",
       "0       1       31     2.5  1260759144\n",
       "1       1     1029     3.0  1260759179\n",
       "2       1     1061     3.0  1260759182\n",
       "3       1     1129     2.0  1260759185\n",
       "4       1     1172     4.0  1260759205"
      ]
     },
     "execution_count": 3,
     "metadata": {},
     "output_type": "execute_result"
    }
   ],
   "source": [
    "ratings.head() # the timestamp will not be relevant in building our recommenders later"
   ]
  },
  {
   "cell_type": "markdown",
   "metadata": {},
   "source": [
    "There are four columns (userId, movieId, rating, timestamp) and 100,000 rows. "
   ]
  },
  {
   "cell_type": "code",
   "execution_count": 4,
   "metadata": {},
   "outputs": [
    {
     "data": {
      "text/plain": [
       "(100004, 4)"
      ]
     },
     "execution_count": 4,
     "metadata": {},
     "output_type": "execute_result"
    }
   ],
   "source": [
    "ratings.shape"
   ]
  },
  {
   "cell_type": "markdown",
   "metadata": {},
   "source": [
    "We need to look at the first few rows of the movies dataframe. "
   ]
  },
  {
   "cell_type": "code",
   "execution_count": 5,
   "metadata": {},
   "outputs": [
    {
     "data": {
      "text/html": [
       "<div>\n",
       "<style scoped>\n",
       "    .dataframe tbody tr th:only-of-type {\n",
       "        vertical-align: middle;\n",
       "    }\n",
       "\n",
       "    .dataframe tbody tr th {\n",
       "        vertical-align: top;\n",
       "    }\n",
       "\n",
       "    .dataframe thead th {\n",
       "        text-align: right;\n",
       "    }\n",
       "</style>\n",
       "<table border=\"1\" class=\"dataframe\">\n",
       "  <thead>\n",
       "    <tr style=\"text-align: right;\">\n",
       "      <th></th>\n",
       "      <th>movieId</th>\n",
       "      <th>title</th>\n",
       "      <th>genres</th>\n",
       "    </tr>\n",
       "  </thead>\n",
       "  <tbody>\n",
       "    <tr>\n",
       "      <th>0</th>\n",
       "      <td>1</td>\n",
       "      <td>Toy Story (1995)</td>\n",
       "      <td>Adventure|Animation|Children|Comedy|Fantasy</td>\n",
       "    </tr>\n",
       "    <tr>\n",
       "      <th>1</th>\n",
       "      <td>2</td>\n",
       "      <td>Jumanji (1995)</td>\n",
       "      <td>Adventure|Children|Fantasy</td>\n",
       "    </tr>\n",
       "    <tr>\n",
       "      <th>2</th>\n",
       "      <td>3</td>\n",
       "      <td>Grumpier Old Men (1995)</td>\n",
       "      <td>Comedy|Romance</td>\n",
       "    </tr>\n",
       "    <tr>\n",
       "      <th>3</th>\n",
       "      <td>4</td>\n",
       "      <td>Waiting to Exhale (1995)</td>\n",
       "      <td>Comedy|Drama|Romance</td>\n",
       "    </tr>\n",
       "    <tr>\n",
       "      <th>4</th>\n",
       "      <td>5</td>\n",
       "      <td>Father of the Bride Part II (1995)</td>\n",
       "      <td>Comedy</td>\n",
       "    </tr>\n",
       "  </tbody>\n",
       "</table>\n",
       "</div>"
      ],
      "text/plain": [
       "   movieId                               title  \\\n",
       "0        1                    Toy Story (1995)   \n",
       "1        2                      Jumanji (1995)   \n",
       "2        3             Grumpier Old Men (1995)   \n",
       "3        4            Waiting to Exhale (1995)   \n",
       "4        5  Father of the Bride Part II (1995)   \n",
       "\n",
       "                                        genres  \n",
       "0  Adventure|Animation|Children|Comedy|Fantasy  \n",
       "1                   Adventure|Children|Fantasy  \n",
       "2                               Comedy|Romance  \n",
       "3                         Comedy|Drama|Romance  \n",
       "4                                       Comedy  "
      ]
     },
     "execution_count": 5,
     "metadata": {},
     "output_type": "execute_result"
    }
   ],
   "source": [
    "movies.head()"
   ]
  },
  {
   "cell_type": "markdown",
   "metadata": {},
   "source": [
    "There are three columns (movieId, title, genres) and 9125 rows in this dataset. "
   ]
  },
  {
   "cell_type": "code",
   "execution_count": 6,
   "metadata": {},
   "outputs": [
    {
     "data": {
      "text/plain": [
       "(9125, 3)"
      ]
     },
     "execution_count": 6,
     "metadata": {},
     "output_type": "execute_result"
    }
   ],
   "source": [
    "movies.shape"
   ]
  },
  {
   "cell_type": "markdown",
   "metadata": {},
   "source": [
    "Now both datasets have been converted to dataframes, there is commonality between the two. Noticed each of them have the movieId column. We will need to merge both of them and drop the timestamp field. "
   ]
  },
  {
   "cell_type": "code",
   "execution_count": 7,
   "metadata": {},
   "outputs": [],
   "source": [
    "combined = pd.merge(ratings,movies,how = 'inner', on = 'movieId').drop('timestamp',axis = 1)"
   ]
  },
  {
   "cell_type": "markdown",
   "metadata": {},
   "source": [
    "Let's look at the merged dataframes!"
   ]
  },
  {
   "cell_type": "code",
   "execution_count": 8,
   "metadata": {},
   "outputs": [
    {
     "data": {
      "text/html": [
       "<div>\n",
       "<style scoped>\n",
       "    .dataframe tbody tr th:only-of-type {\n",
       "        vertical-align: middle;\n",
       "    }\n",
       "\n",
       "    .dataframe tbody tr th {\n",
       "        vertical-align: top;\n",
       "    }\n",
       "\n",
       "    .dataframe thead th {\n",
       "        text-align: right;\n",
       "    }\n",
       "</style>\n",
       "<table border=\"1\" class=\"dataframe\">\n",
       "  <thead>\n",
       "    <tr style=\"text-align: right;\">\n",
       "      <th></th>\n",
       "      <th>userId</th>\n",
       "      <th>movieId</th>\n",
       "      <th>rating</th>\n",
       "      <th>title</th>\n",
       "      <th>genres</th>\n",
       "    </tr>\n",
       "  </thead>\n",
       "  <tbody>\n",
       "    <tr>\n",
       "      <th>0</th>\n",
       "      <td>1</td>\n",
       "      <td>31</td>\n",
       "      <td>2.5</td>\n",
       "      <td>Dangerous Minds (1995)</td>\n",
       "      <td>Drama</td>\n",
       "    </tr>\n",
       "    <tr>\n",
       "      <th>1</th>\n",
       "      <td>7</td>\n",
       "      <td>31</td>\n",
       "      <td>3.0</td>\n",
       "      <td>Dangerous Minds (1995)</td>\n",
       "      <td>Drama</td>\n",
       "    </tr>\n",
       "    <tr>\n",
       "      <th>2</th>\n",
       "      <td>31</td>\n",
       "      <td>31</td>\n",
       "      <td>4.0</td>\n",
       "      <td>Dangerous Minds (1995)</td>\n",
       "      <td>Drama</td>\n",
       "    </tr>\n",
       "    <tr>\n",
       "      <th>3</th>\n",
       "      <td>32</td>\n",
       "      <td>31</td>\n",
       "      <td>4.0</td>\n",
       "      <td>Dangerous Minds (1995)</td>\n",
       "      <td>Drama</td>\n",
       "    </tr>\n",
       "    <tr>\n",
       "      <th>4</th>\n",
       "      <td>36</td>\n",
       "      <td>31</td>\n",
       "      <td>3.0</td>\n",
       "      <td>Dangerous Minds (1995)</td>\n",
       "      <td>Drama</td>\n",
       "    </tr>\n",
       "  </tbody>\n",
       "</table>\n",
       "</div>"
      ],
      "text/plain": [
       "   userId  movieId  rating                   title genres\n",
       "0       1       31     2.5  Dangerous Minds (1995)  Drama\n",
       "1       7       31     3.0  Dangerous Minds (1995)  Drama\n",
       "2      31       31     4.0  Dangerous Minds (1995)  Drama\n",
       "3      32       31     4.0  Dangerous Minds (1995)  Drama\n",
       "4      36       31     3.0  Dangerous Minds (1995)  Drama"
      ]
     },
     "execution_count": 8,
     "metadata": {},
     "output_type": "execute_result"
    }
   ],
   "source": [
    "combined.head() # both dataframes have been combined"
   ]
  },
  {
   "cell_type": "code",
   "execution_count": 9,
   "metadata": {},
   "outputs": [
    {
     "data": {
      "text/plain": [
       "(100004, 5)"
      ]
     },
     "execution_count": 9,
     "metadata": {},
     "output_type": "execute_result"
    }
   ],
   "source": [
    "combined.shape "
   ]
  },
  {
   "cell_type": "markdown",
   "metadata": {},
   "source": [
    "## Exploratory Data Analysis (EDA)"
   ]
  },
  {
   "cell_type": "markdown",
   "metadata": {},
   "source": [
    "Since we combined both datasets, let's check to make sure there were no missing or null values. "
   ]
  },
  {
   "cell_type": "code",
   "execution_count": 10,
   "metadata": {},
   "outputs": [
    {
     "data": {
      "text/plain": [
       "userId     0\n",
       "movieId    0\n",
       "rating     0\n",
       "title      0\n",
       "genres     0\n",
       "dtype: int64"
      ]
     },
     "execution_count": 10,
     "metadata": {},
     "output_type": "execute_result"
    }
   ],
   "source": [
    "pd.isnull(combined).sum() #there were no missing values"
   ]
  },
  {
   "cell_type": "markdown",
   "metadata": {},
   "source": [
    "Which user had the highest number of ratings? "
   ]
  },
  {
   "cell_type": "code",
   "execution_count": 11,
   "metadata": {},
   "outputs": [
    {
     "data": {
      "text/plain": [
       "userId\n",
       "547    2391\n",
       "564    1868\n",
       "624    1735\n",
       "15     1700\n",
       "73     1610\n",
       "Name: rating, dtype: int64"
      ]
     },
     "execution_count": 11,
     "metadata": {},
     "output_type": "execute_result"
    }
   ],
   "source": [
    "by_userId = combined.groupby('userId')['rating'].count().sort_values(ascending = False).head()\n",
    "by_userId"
   ]
  },
  {
   "cell_type": "markdown",
   "metadata": {},
   "source": [
    "User 547 had the highest number ratings with a value of 2391."
   ]
  },
  {
   "cell_type": "markdown",
   "metadata": {},
   "source": [
    "Which movie title had the highest number of ratings?"
   ]
  },
  {
   "cell_type": "code",
   "execution_count": 12,
   "metadata": {},
   "outputs": [
    {
     "data": {
      "text/plain": [
       "title\n",
       "Forrest Gump (1994)                          341\n",
       "Pulp Fiction (1994)                          324\n",
       "Shawshank Redemption, The (1994)             311\n",
       "Silence of the Lambs, The (1991)             304\n",
       "Star Wars: Episode IV - A New Hope (1977)    291\n",
       "Name: rating, dtype: int64"
      ]
     },
     "execution_count": 12,
     "metadata": {},
     "output_type": "execute_result"
    }
   ],
   "source": [
    "by_movie_title = combined.groupby('title')['rating'].count().sort_values(ascending = False).head()\n",
    "by_movie_title"
   ]
  },
  {
   "cell_type": "markdown",
   "metadata": {},
   "source": [
    "Forest Gump (1994) had the highest number of ratings with a value of 341."
   ]
  },
  {
   "cell_type": "markdown",
   "metadata": {},
   "source": [
    "Next we examine the ratings using summary statistics. Notice the highest rating is 5 and the lowest rating is 0.5. The average for the entire dataset is 3.5"
   ]
  },
  {
   "cell_type": "code",
   "execution_count": 13,
   "metadata": {},
   "outputs": [
    {
     "data": {
      "text/plain": [
       "count    100004.000000\n",
       "mean          3.543608\n",
       "std           1.058064\n",
       "min           0.500000\n",
       "25%           3.000000\n",
       "50%           4.000000\n",
       "75%           4.000000\n",
       "max           5.000000\n",
       "Name: rating, dtype: float64"
      ]
     },
     "execution_count": 13,
     "metadata": {},
     "output_type": "execute_result"
    }
   ],
   "source": [
    "combined['rating'].describe()"
   ]
  },
  {
   "cell_type": "code",
   "execution_count": 14,
   "metadata": {},
   "outputs": [],
   "source": [
    "%matplotlib inline"
   ]
  },
  {
   "cell_type": "markdown",
   "metadata": {},
   "source": [
    "Let's check out the distribution of the ratings. User's seem to give a rating of 4 on most movies. "
   ]
  },
  {
   "cell_type": "code",
   "execution_count": 15,
   "metadata": {},
   "outputs": [
    {
     "data": {
      "image/png": "[encoded data removed]",
      "text/plain": [
       "<Figure size 432x288 with 1 Axes>"
      ]
     },
     "metadata": {},
     "output_type": "display_data"
    }
   ],
   "source": [
    "sns.set_style(\"darkgrid\")\n",
    "sns.set(font_scale = 1.5)\n",
    "columnchart = sns.countplot(x = \"rating\", data = combined, color = 'DarkGrey')"
   ]
  },
  {
   "cell_type": "markdown",
   "metadata": {},
   "source": [
    "Next, we can look at the most frequent words in each movie title by plotting a wordcloud visualization"
   ]
  },
  {
   "cell_type": "code",
   "execution_count": 16,
   "metadata": {},
   "outputs": [
    {
     "data": {
      "image/png": "[encoded data removed]",
      "text/plain": [
       "<Figure size 1152x576 with 1 Axes>"
      ]
     },
     "metadata": {},
     "output_type": "display_data"
    }
   ],
   "source": [
    "titles = movies['title'].fillna(\"\").astype('str')\n",
    "title = ' '.join(titles)\n",
    "title_wordcloud = WordCloud(stopwords = STOPWORDS,colormap = \"Reds\", height = 800, width = 1600).generate(title)\n",
    "\n",
    "#Plot the wordcloud\n",
    "plt.figure(figsize = (16,8))\n",
    "plt.imshow(title_wordcloud)\n",
    "plt.axis('off')\n",
    "plt.show()"
   ]
  },
  {
   "cell_type": "markdown",
   "metadata": {},
   "source": [
    "The most commonly words from the movie title are: Man, Le, Love, Day, Night, La, Girl, and Life. "
   ]
  },
  {
   "cell_type": "markdown",
   "metadata": {},
   "source": [
    "## Memory-Based Collaborative Recommender Model"
   ]
  },
  {
   "cell_type": "markdown",
   "metadata": {},
   "source": [
    "In order to evaluate the recommender properly, we need to split the dataset into training and testing sets. For the testing set, we only want to predict 1/4 or 25% of the ratings for the users.  "
   ]
  },
  {
   "cell_type": "code",
   "execution_count": 17,
   "metadata": {},
   "outputs": [],
   "source": [
    "train, test = train_test_split(combined, test_size = 0.2)"
   ]
  },
  {
   "cell_type": "markdown",
   "metadata": {},
   "source": [
    "Before calculating the similarities for each user, we need to create two matrices to put the userId, movie title, and ratings in a pivot table."
   ]
  },
  {
   "cell_type": "code",
   "execution_count": 18,
   "metadata": {},
   "outputs": [
    {
     "data": {
      "text/plain": [
       "(671, 8381)"
      ]
     },
     "execution_count": 18,
     "metadata": {},
     "output_type": "execute_result"
    }
   ],
   "source": [
    "ratings_pivot_train = train.pivot_table(index = 'userId', columns = 'title', values = 'rating').fillna(0)\n",
    "ratings_pivot_train.shape"
   ]
  },
  {
   "cell_type": "code",
   "execution_count": 19,
   "metadata": {},
   "outputs": [
    {
     "data": {
      "text/plain": [
       "(671, 4852)"
      ]
     },
     "execution_count": 19,
     "metadata": {},
     "output_type": "execute_result"
    }
   ],
   "source": [
    "ratings_pivot_test = test.pivot_table(index = 'userId', columns = 'title', values = 'rating').fillna(0)\n",
    "ratings_pivot_test.shape"
   ]
  },
  {
   "cell_type": "markdown",
   "metadata": {},
   "source": [
    "Here we check out the first few rows of our training pivot table. "
   ]
  },
  {
   "cell_type": "code",
   "execution_count": 20,
   "metadata": {},
   "outputs": [
    {
     "data": {
      "text/html": [
       "<div>\n",
       "<style scoped>\n",
       "    .dataframe tbody tr th:only-of-type {\n",
       "        vertical-align: middle;\n",
       "    }\n",
       "\n",
       "    .dataframe tbody tr th {\n",
       "        vertical-align: top;\n",
       "    }\n",
       "\n",
       "    .dataframe thead th {\n",
       "        text-align: right;\n",
       "    }\n",
       "</style>\n",
       "<table border=\"1\" class=\"dataframe\">\n",
       "  <thead>\n",
       "    <tr style=\"text-align: right;\">\n",
       "      <th>title</th>\n",
       "      <th>\"Great Performances\" Cats (1998)</th>\n",
       "      <th>$9.99 (2008)</th>\n",
       "      <th>'Hellboy': The Seeds of Creation (2004)</th>\n",
       "      <th>'Neath the Arizona Skies (1934)</th>\n",
       "      <th>'Round Midnight (1986)</th>\n",
       "      <th>'Til There Was You (1997)</th>\n",
       "      <th>'burbs, The (1989)</th>\n",
       "      <th>'night Mother (1986)</th>\n",
       "      <th>(500) Days of Summer (2009)</th>\n",
       "      <th>*batteries not included (1987)</th>\n",
       "      <th>...</th>\n",
       "      <th>Zorn's Lemma (1970)</th>\n",
       "      <th>Zorro, the Gay Blade (1981)</th>\n",
       "      <th>Zulu (1964)</th>\n",
       "      <th>[REC] (2007)</th>\n",
       "      <th>eXistenZ (1999)</th>\n",
       "      <th>loudQUIETloud: A Film About the Pixies (2006)</th>\n",
       "      <th>xXx (2002)</th>\n",
       "      <th>¡Three Amigos! (1986)</th>\n",
       "      <th>À nous la liberté (Freedom for Us) (1931)</th>\n",
       "      <th>İtirazım Var (2014)</th>\n",
       "    </tr>\n",
       "    <tr>\n",
       "      <th>userId</th>\n",
       "      <th></th>\n",
       "      <th></th>\n",
       "      <th></th>\n",
       "      <th></th>\n",
       "      <th></th>\n",
       "      <th></th>\n",
       "      <th></th>\n",
       "      <th></th>\n",
       "      <th></th>\n",
       "      <th></th>\n",
       "      <th></th>\n",
       "      <th></th>\n",
       "      <th></th>\n",
       "      <th></th>\n",
       "      <th></th>\n",
       "      <th></th>\n",
       "      <th></th>\n",
       "      <th></th>\n",
       "      <th></th>\n",
       "      <th></th>\n",
       "      <th></th>\n",
       "    </tr>\n",
       "  </thead>\n",
       "  <tbody>\n",
       "    <tr>\n",
       "      <th>1</th>\n",
       "      <td>0.0</td>\n",
       "      <td>0.0</td>\n",
       "      <td>0.0</td>\n",
       "      <td>0.0</td>\n",
       "      <td>0.0</td>\n",
       "      <td>0.0</td>\n",
       "      <td>0.0</td>\n",
       "      <td>0.0</td>\n",
       "      <td>0.0</td>\n",
       "      <td>0.0</td>\n",
       "      <td>...</td>\n",
       "      <td>0.0</td>\n",
       "      <td>0.0</td>\n",
       "      <td>0.0</td>\n",
       "      <td>0.0</td>\n",
       "      <td>0.0</td>\n",
       "      <td>0.0</td>\n",
       "      <td>0.0</td>\n",
       "      <td>0.0</td>\n",
       "      <td>0.0</td>\n",
       "      <td>0.0</td>\n",
       "    </tr>\n",
       "    <tr>\n",
       "      <th>2</th>\n",
       "      <td>0.0</td>\n",
       "      <td>0.0</td>\n",
       "      <td>0.0</td>\n",
       "      <td>0.0</td>\n",
       "      <td>0.0</td>\n",
       "      <td>0.0</td>\n",
       "      <td>0.0</td>\n",
       "      <td>0.0</td>\n",
       "      <td>0.0</td>\n",
       "      <td>0.0</td>\n",
       "      <td>...</td>\n",
       "      <td>0.0</td>\n",
       "      <td>0.0</td>\n",
       "      <td>0.0</td>\n",
       "      <td>0.0</td>\n",
       "      <td>0.0</td>\n",
       "      <td>0.0</td>\n",
       "      <td>0.0</td>\n",
       "      <td>0.0</td>\n",
       "      <td>0.0</td>\n",
       "      <td>0.0</td>\n",
       "    </tr>\n",
       "    <tr>\n",
       "      <th>3</th>\n",
       "      <td>0.0</td>\n",
       "      <td>0.0</td>\n",
       "      <td>0.0</td>\n",
       "      <td>0.0</td>\n",
       "      <td>0.0</td>\n",
       "      <td>0.0</td>\n",
       "      <td>0.0</td>\n",
       "      <td>0.0</td>\n",
       "      <td>0.0</td>\n",
       "      <td>0.0</td>\n",
       "      <td>...</td>\n",
       "      <td>0.0</td>\n",
       "      <td>0.0</td>\n",
       "      <td>0.0</td>\n",
       "      <td>0.0</td>\n",
       "      <td>0.0</td>\n",
       "      <td>0.0</td>\n",
       "      <td>0.0</td>\n",
       "      <td>0.0</td>\n",
       "      <td>0.0</td>\n",
       "      <td>0.0</td>\n",
       "    </tr>\n",
       "    <tr>\n",
       "      <th>4</th>\n",
       "      <td>0.0</td>\n",
       "      <td>0.0</td>\n",
       "      <td>0.0</td>\n",
       "      <td>0.0</td>\n",
       "      <td>0.0</td>\n",
       "      <td>0.0</td>\n",
       "      <td>0.0</td>\n",
       "      <td>0.0</td>\n",
       "      <td>0.0</td>\n",
       "      <td>0.0</td>\n",
       "      <td>...</td>\n",
       "      <td>0.0</td>\n",
       "      <td>0.0</td>\n",
       "      <td>0.0</td>\n",
       "      <td>0.0</td>\n",
       "      <td>0.0</td>\n",
       "      <td>0.0</td>\n",
       "      <td>0.0</td>\n",
       "      <td>0.0</td>\n",
       "      <td>0.0</td>\n",
       "      <td>0.0</td>\n",
       "    </tr>\n",
       "    <tr>\n",
       "      <th>5</th>\n",
       "      <td>0.0</td>\n",
       "      <td>0.0</td>\n",
       "      <td>0.0</td>\n",
       "      <td>0.0</td>\n",
       "      <td>0.0</td>\n",
       "      <td>0.0</td>\n",
       "      <td>0.0</td>\n",
       "      <td>0.0</td>\n",
       "      <td>0.0</td>\n",
       "      <td>0.0</td>\n",
       "      <td>...</td>\n",
       "      <td>0.0</td>\n",
       "      <td>0.0</td>\n",
       "      <td>0.0</td>\n",
       "      <td>0.0</td>\n",
       "      <td>0.0</td>\n",
       "      <td>0.0</td>\n",
       "      <td>0.0</td>\n",
       "      <td>0.0</td>\n",
       "      <td>0.0</td>\n",
       "      <td>0.0</td>\n",
       "    </tr>\n",
       "  </tbody>\n",
       "</table>\n",
       "<p>5 rows × 8381 columns</p>\n",
       "</div>"
      ],
      "text/plain": [
       "title   \"Great Performances\" Cats (1998)  $9.99 (2008)  \\\n",
       "userId                                                   \n",
       "1                                    0.0           0.0   \n",
       "2                                    0.0           0.0   \n",
       "3                                    0.0           0.0   \n",
       "4                                    0.0           0.0   \n",
       "5                                    0.0           0.0   \n",
       "\n",
       "title   'Hellboy': The Seeds of Creation (2004)  \\\n",
       "userId                                            \n",
       "1                                           0.0   \n",
       "2                                           0.0   \n",
       "3                                           0.0   \n",
       "4                                           0.0   \n",
       "5                                           0.0   \n",
       "\n",
       "title   'Neath the Arizona Skies (1934)  'Round Midnight (1986)  \\\n",
       "userId                                                            \n",
       "1                                   0.0                     0.0   \n",
       "2                                   0.0                     0.0   \n",
       "3                                   0.0                     0.0   \n",
       "4                                   0.0                     0.0   \n",
       "5                                   0.0                     0.0   \n",
       "\n",
       "title   'Til There Was You (1997)  'burbs, The (1989)  'night Mother (1986)  \\\n",
       "userId                                                                        \n",
       "1                             0.0                 0.0                   0.0   \n",
       "2                             0.0                 0.0                   0.0   \n",
       "3                             0.0                 0.0                   0.0   \n",
       "4                             0.0                 0.0                   0.0   \n",
       "5                             0.0                 0.0                   0.0   \n",
       "\n",
       "title   (500) Days of Summer (2009)  *batteries not included (1987)  \\\n",
       "userId                                                                \n",
       "1                               0.0                             0.0   \n",
       "2                               0.0                             0.0   \n",
       "3                               0.0                             0.0   \n",
       "4                               0.0                             0.0   \n",
       "5                               0.0                             0.0   \n",
       "\n",
       "title          ...           Zorn's Lemma (1970)  Zorro, the Gay Blade (1981)  \\\n",
       "userId         ...                                                              \n",
       "1              ...                           0.0                          0.0   \n",
       "2              ...                           0.0                          0.0   \n",
       "3              ...                           0.0                          0.0   \n",
       "4              ...                           0.0                          0.0   \n",
       "5              ...                           0.0                          0.0   \n",
       "\n",
       "title   Zulu (1964)  [REC] (2007)  eXistenZ (1999)  \\\n",
       "userId                                               \n",
       "1               0.0           0.0              0.0   \n",
       "2               0.0           0.0              0.0   \n",
       "3               0.0           0.0              0.0   \n",
       "4               0.0           0.0              0.0   \n",
       "5               0.0           0.0              0.0   \n",
       "\n",
       "title   loudQUIETloud: A Film About the Pixies (2006)  xXx (2002)  \\\n",
       "userId                                                              \n",
       "1                                                 0.0         0.0   \n",
       "2                                                 0.0         0.0   \n",
       "3                                                 0.0         0.0   \n",
       "4                                                 0.0         0.0   \n",
       "5                                                 0.0         0.0   \n",
       "\n",
       "title   ¡Three Amigos! (1986)  À nous la liberté (Freedom for Us) (1931)  \\\n",
       "userId                                                                     \n",
       "1                         0.0                                        0.0   \n",
       "2                         0.0                                        0.0   \n",
       "3                         0.0                                        0.0   \n",
       "4                         0.0                                        0.0   \n",
       "5                         0.0                                        0.0   \n",
       "\n",
       "title   İtirazım Var (2014)  \n",
       "userId                       \n",
       "1                       0.0  \n",
       "2                       0.0  \n",
       "3                       0.0  \n",
       "4                       0.0  \n",
       "5                       0.0  \n",
       "\n",
       "[5 rows x 8381 columns]"
      ]
     },
     "execution_count": 20,
     "metadata": {},
     "output_type": "execute_result"
    }
   ],
   "source": [
    "ratings_pivot_train.head() #Just wanted to make the sure ratings are present "
   ]
  },
  {
   "cell_type": "markdown",
   "metadata": {},
   "source": [
    "In order to find out which users gave similair ratings for each movie, we need to create a function to compute their similarities using the cosine metric. "
   ]
  },
  {
   "cell_type": "code",
   "execution_count": 21,
   "metadata": {},
   "outputs": [],
   "source": [
    "# Function to compute similarities\n",
    "def cos_similarity(ratings, kind = 'user', epsilon = 1e-9):\n",
    "    if kind == 'user':\n",
    "        # for user-based\n",
    "        sim = ratings.dot(ratings.T) + epsilon\n",
    "        norms = np.array(LA.norm(ratings)*LA.norm(ratings.T))\n",
    "    elif kind == 'item':\n",
    "        # for item-based \n",
    "        sim = ratings.T.dot(ratings) + epsilon\n",
    "        norms = np.array(LA.norm(ratings.T)*LA.norm(ratings))\n",
    "    return sim/norms"
   ]
  },
  {
   "cell_type": "markdown",
   "metadata": {},
   "source": [
    "Here we compute the cosine similarities for our training data for the user-user and item-item. "
   ]
  },
  {
   "cell_type": "code",
   "execution_count": 22,
   "metadata": {},
   "outputs": [],
   "source": [
    "# training data\n",
    "user_similarity = cos_similarity(ratings_pivot_train.values, kind = 'user') # user-based similarities\n",
    "movie_similarity = cos_similarity(ratings_pivot_train.values, kind = 'item')# item-based similarities"
   ]
  },
  {
   "cell_type": "markdown",
   "metadata": {},
   "source": [
    "Here, we generate predictions using the cosine similarity matrix as weights and adjust bias for individual users' by subtracting the mean of rating.\n",
    "\n",
    "For the user-user and item-time collaborative filter case, we will look at the similarity between 2 users (A and B, for example) as weights that are multiplied by the ratings of a similar user B (corrected for the average rating of that user). We also need to normalize them so that the ratings stay between 1 and 5 and, as a final step, sum the average ratings for the user that we are trying to predict. "
   ]
  },
  {
   "cell_type": "code",
   "execution_count": 23,
   "metadata": {},
   "outputs": [],
   "source": [
    "# Function to predict ratings\n",
    "def predict(ratings, similarity, kind = 'user'):\n",
    "    if kind == 'user':\n",
    "        user_bias = ratings.mean(axis = 1)\n",
    "        ratings = (ratings - user_bias[:, np.newaxis]).copy()\n",
    "        pred = similarity.dot(ratings) / np.array([np.abs(similarity).sum(axis = 1)]).T\n",
    "        pred += user_bias[:, np.newaxis]\n",
    "    elif kind == 'item':\n",
    "        item_bias = ratings.mean(axis = 0)\n",
    "        ratings = (ratings - item_bias[np.newaxis, :]).copy()\n",
    "        pred = ratings.dot(similarity) / np.array([np.abs(similarity).sum(axis = 1)])\n",
    "        pred += item_bias[np.newaxis, :]\n",
    "        \n",
    "    return pred"
   ]
  },
  {
   "cell_type": "markdown",
   "metadata": {},
   "source": [
    "Let's predict the ratings for the user and item using the training set."
   ]
  },
  {
   "cell_type": "code",
   "execution_count": 24,
   "metadata": {},
   "outputs": [],
   "source": [
    "user_prediction = predict(ratings_pivot_train.values, user_similarity, kind = 'user')\n",
    "movie_prediction = predict(ratings_pivot_train.values, movie_similarity, kind = 'item')"
   ]
  },
  {
   "cell_type": "markdown",
   "metadata": {},
   "source": [
    "Here, we going to use the mean squared error function as my validation metric then substract it by 100 to get the accuracy. Then we will compare the user-user and item-item predictions to evaluate which one performed better or yielded better results."
   ]
  },
  {
   "cell_type": "code",
   "execution_count": 25,
   "metadata": {},
   "outputs": [],
   "source": [
    "def rmse(prediction, ground_truth):\n",
    "    prediction = prediction[ground_truth.nonzero()].flatten() \n",
    "    ground_truth = ground_truth[ground_truth.nonzero()].flatten()\n",
    "    return sqrt(mean_squared_error(prediction, ground_truth))"
   ]
  },
  {
   "cell_type": "markdown",
   "metadata": {},
   "source": [
    "### User/Item-Based Collaborative Recommender Evaluation"
   ]
  },
  {
   "cell_type": "markdown",
   "metadata": {},
   "source": [
    "Now we print out the user and item based root square mean errors and their accuracies. "
   ]
  },
  {
   "cell_type": "code",
   "execution_count": 26,
   "metadata": {},
   "outputs": [
    {
     "name": "stdout",
     "output_type": "stream",
     "text": [
      "User-based bias-adjusted CF RMSE: 3.55\n",
      "Item-based bias-adjusted CF RMSE: 3.39\n",
      "User-based bias-adjusted CF RMSE: 96.45\n",
      "Item-based bias-adjusted CF RMSE: 96.61\n"
     ]
    }
   ],
   "source": [
    "print('User-based bias-adjusted CF RMSE: %.2f' %rmse(user_prediction, ratings_pivot_test.values))\n",
    "print('Item-based bias-adjusted CF RMSE: %.2f' %rmse(movie_prediction, ratings_pivot_test.values))\n",
    "print('User-based bias-adjusted CF RMSE: %.2f' %(100 - rmse(user_prediction, ratings_pivot_test.values)))\n",
    "print('Item-based bias-adjusted CF RMSE: %.2f' %(100 - rmse(movie_prediction, ratings_pivot_test.values)))"
   ]
  },
  {
   "cell_type": "markdown",
   "metadata": {},
   "source": [
    "The predicted ratings for the user-based model will be stored in a dataframe. "
   ]
  },
  {
   "cell_type": "code",
   "execution_count": 27,
   "metadata": {},
   "outputs": [],
   "source": [
    "user_based = pd.DataFrame(user_prediction,index = ratings_pivot_train.index, columns = ratings_pivot_train.columns)"
   ]
  },
  {
   "cell_type": "code",
   "execution_count": 28,
   "metadata": {},
   "outputs": [
    {
     "data": {
      "text/html": [
       "<div>\n",
       "<style scoped>\n",
       "    .dataframe tbody tr th:only-of-type {\n",
       "        vertical-align: middle;\n",
       "    }\n",
       "\n",
       "    .dataframe tbody tr th {\n",
       "        vertical-align: top;\n",
       "    }\n",
       "\n",
       "    .dataframe thead th {\n",
       "        text-align: right;\n",
       "    }\n",
       "</style>\n",
       "<table border=\"1\" class=\"dataframe\">\n",
       "  <thead>\n",
       "    <tr style=\"text-align: right;\">\n",
       "      <th>title</th>\n",
       "      <th>\"Great Performances\" Cats (1998)</th>\n",
       "      <th>$9.99 (2008)</th>\n",
       "      <th>'Hellboy': The Seeds of Creation (2004)</th>\n",
       "      <th>'Neath the Arizona Skies (1934)</th>\n",
       "      <th>'Round Midnight (1986)</th>\n",
       "      <th>'Til There Was You (1997)</th>\n",
       "      <th>'burbs, The (1989)</th>\n",
       "      <th>'night Mother (1986)</th>\n",
       "      <th>(500) Days of Summer (2009)</th>\n",
       "      <th>*batteries not included (1987)</th>\n",
       "      <th>...</th>\n",
       "      <th>Zorn's Lemma (1970)</th>\n",
       "      <th>Zorro, the Gay Blade (1981)</th>\n",
       "      <th>Zulu (1964)</th>\n",
       "      <th>[REC] (2007)</th>\n",
       "      <th>eXistenZ (1999)</th>\n",
       "      <th>loudQUIETloud: A Film About the Pixies (2006)</th>\n",
       "      <th>xXx (2002)</th>\n",
       "      <th>¡Three Amigos! (1986)</th>\n",
       "      <th>À nous la liberté (Freedom for Us) (1931)</th>\n",
       "      <th>İtirazım Var (2014)</th>\n",
       "    </tr>\n",
       "    <tr>\n",
       "      <th>userId</th>\n",
       "      <th></th>\n",
       "      <th></th>\n",
       "      <th></th>\n",
       "      <th></th>\n",
       "      <th></th>\n",
       "      <th></th>\n",
       "      <th></th>\n",
       "      <th></th>\n",
       "      <th></th>\n",
       "      <th></th>\n",
       "      <th></th>\n",
       "      <th></th>\n",
       "      <th></th>\n",
       "      <th></th>\n",
       "      <th></th>\n",
       "      <th></th>\n",
       "      <th></th>\n",
       "      <th></th>\n",
       "      <th></th>\n",
       "      <th></th>\n",
       "      <th></th>\n",
       "    </tr>\n",
       "  </thead>\n",
       "  <tbody>\n",
       "    <tr>\n",
       "      <th>1</th>\n",
       "      <td>-0.146677</td>\n",
       "      <td>-0.119922</td>\n",
       "      <td>-0.151299</td>\n",
       "      <td>-0.148526</td>\n",
       "      <td>-0.148526</td>\n",
       "      <td>-0.081766</td>\n",
       "      <td>0.057170</td>\n",
       "      <td>-0.053728</td>\n",
       "      <td>0.105082</td>\n",
       "      <td>-0.087929</td>\n",
       "      <td>...</td>\n",
       "      <td>-0.106467</td>\n",
       "      <td>-0.151299</td>\n",
       "      <td>-0.099945</td>\n",
       "      <td>-0.146985</td>\n",
       "      <td>0.250283</td>\n",
       "      <td>-0.145752</td>\n",
       "      <td>0.064487</td>\n",
       "      <td>0.331806</td>\n",
       "      <td>-0.132811</td>\n",
       "      <td>-0.151299</td>\n",
       "    </tr>\n",
       "    <tr>\n",
       "      <th>2</th>\n",
       "      <td>-0.066732</td>\n",
       "      <td>-0.053514</td>\n",
       "      <td>-0.061910</td>\n",
       "      <td>-0.067804</td>\n",
       "      <td>-0.067804</td>\n",
       "      <td>-0.038351</td>\n",
       "      <td>0.063041</td>\n",
       "      <td>-0.020464</td>\n",
       "      <td>0.100242</td>\n",
       "      <td>-0.026647</td>\n",
       "      <td>...</td>\n",
       "      <td>-0.051735</td>\n",
       "      <td>-0.063674</td>\n",
       "      <td>-0.044420</td>\n",
       "      <td>-0.054205</td>\n",
       "      <td>0.100798</td>\n",
       "      <td>-0.060314</td>\n",
       "      <td>0.076560</td>\n",
       "      <td>0.171733</td>\n",
       "      <td>-0.064674</td>\n",
       "      <td>-0.064960</td>\n",
       "    </tr>\n",
       "    <tr>\n",
       "      <th>3</th>\n",
       "      <td>-0.079957</td>\n",
       "      <td>-0.061813</td>\n",
       "      <td>-0.072608</td>\n",
       "      <td>-0.080453</td>\n",
       "      <td>-0.080453</td>\n",
       "      <td>-0.057314</td>\n",
       "      <td>0.058316</td>\n",
       "      <td>-0.041667</td>\n",
       "      <td>0.195709</td>\n",
       "      <td>-0.041728</td>\n",
       "      <td>...</td>\n",
       "      <td>-0.062900</td>\n",
       "      <td>-0.075438</td>\n",
       "      <td>-0.058914</td>\n",
       "      <td>-0.048119</td>\n",
       "      <td>0.114027</td>\n",
       "      <td>-0.068337</td>\n",
       "      <td>0.106521</td>\n",
       "      <td>0.148565</td>\n",
       "      <td>-0.064762</td>\n",
       "      <td>-0.074622</td>\n",
       "    </tr>\n",
       "    <tr>\n",
       "      <th>4</th>\n",
       "      <td>-0.036900</td>\n",
       "      <td>-0.019999</td>\n",
       "      <td>-0.028281</td>\n",
       "      <td>-0.038096</td>\n",
       "      <td>-0.038096</td>\n",
       "      <td>0.002849</td>\n",
       "      <td>0.149721</td>\n",
       "      <td>0.024938</td>\n",
       "      <td>0.184956</td>\n",
       "      <td>0.019294</td>\n",
       "      <td>...</td>\n",
       "      <td>-0.011795</td>\n",
       "      <td>-0.031965</td>\n",
       "      <td>-0.001723</td>\n",
       "      <td>-0.020505</td>\n",
       "      <td>0.191592</td>\n",
       "      <td>-0.021668</td>\n",
       "      <td>0.162080</td>\n",
       "      <td>0.325452</td>\n",
       "      <td>-0.025036</td>\n",
       "      <td>-0.037235</td>\n",
       "    </tr>\n",
       "    <tr>\n",
       "      <th>5</th>\n",
       "      <td>-0.074291</td>\n",
       "      <td>-0.058573</td>\n",
       "      <td>-0.068284</td>\n",
       "      <td>-0.075867</td>\n",
       "      <td>-0.075867</td>\n",
       "      <td>-0.049632</td>\n",
       "      <td>0.086686</td>\n",
       "      <td>-0.038652</td>\n",
       "      <td>0.266183</td>\n",
       "      <td>-0.022555</td>\n",
       "      <td>...</td>\n",
       "      <td>-0.050926</td>\n",
       "      <td>-0.070590</td>\n",
       "      <td>-0.041220</td>\n",
       "      <td>-0.048172</td>\n",
       "      <td>0.118673</td>\n",
       "      <td>-0.062534</td>\n",
       "      <td>0.149113</td>\n",
       "      <td>0.201610</td>\n",
       "      <td>-0.056455</td>\n",
       "      <td>-0.072901</td>\n",
       "    </tr>\n",
       "  </tbody>\n",
       "</table>\n",
       "<p>5 rows × 8381 columns</p>\n",
       "</div>"
      ],
      "text/plain": [
       "title   \"Great Performances\" Cats (1998)  $9.99 (2008)  \\\n",
       "userId                                                   \n",
       "1                              -0.146677     -0.119922   \n",
       "2                              -0.066732     -0.053514   \n",
       "3                              -0.079957     -0.061813   \n",
       "4                              -0.036900     -0.019999   \n",
       "5                              -0.074291     -0.058573   \n",
       "\n",
       "title   'Hellboy': The Seeds of Creation (2004)  \\\n",
       "userId                                            \n",
       "1                                     -0.151299   \n",
       "2                                     -0.061910   \n",
       "3                                     -0.072608   \n",
       "4                                     -0.028281   \n",
       "5                                     -0.068284   \n",
       "\n",
       "title   'Neath the Arizona Skies (1934)  'Round Midnight (1986)  \\\n",
       "userId                                                            \n",
       "1                             -0.148526               -0.148526   \n",
       "2                             -0.067804               -0.067804   \n",
       "3                             -0.080453               -0.080453   \n",
       "4                             -0.038096               -0.038096   \n",
       "5                             -0.075867               -0.075867   \n",
       "\n",
       "title   'Til There Was You (1997)  'burbs, The (1989)  'night Mother (1986)  \\\n",
       "userId                                                                        \n",
       "1                       -0.081766            0.057170             -0.053728   \n",
       "2                       -0.038351            0.063041             -0.020464   \n",
       "3                       -0.057314            0.058316             -0.041667   \n",
       "4                        0.002849            0.149721              0.024938   \n",
       "5                       -0.049632            0.086686             -0.038652   \n",
       "\n",
       "title   (500) Days of Summer (2009)  *batteries not included (1987)  \\\n",
       "userId                                                                \n",
       "1                          0.105082                       -0.087929   \n",
       "2                          0.100242                       -0.026647   \n",
       "3                          0.195709                       -0.041728   \n",
       "4                          0.184956                        0.019294   \n",
       "5                          0.266183                       -0.022555   \n",
       "\n",
       "title          ...           Zorn's Lemma (1970)  Zorro, the Gay Blade (1981)  \\\n",
       "userId         ...                                                              \n",
       "1              ...                     -0.106467                    -0.151299   \n",
       "2              ...                     -0.051735                    -0.063674   \n",
       "3              ...                     -0.062900                    -0.075438   \n",
       "4              ...                     -0.011795                    -0.031965   \n",
       "5              ...                     -0.050926                    -0.070590   \n",
       "\n",
       "title   Zulu (1964)  [REC] (2007)  eXistenZ (1999)  \\\n",
       "userId                                               \n",
       "1         -0.099945     -0.146985         0.250283   \n",
       "2         -0.044420     -0.054205         0.100798   \n",
       "3         -0.058914     -0.048119         0.114027   \n",
       "4         -0.001723     -0.020505         0.191592   \n",
       "5         -0.041220     -0.048172         0.118673   \n",
       "\n",
       "title   loudQUIETloud: A Film About the Pixies (2006)  xXx (2002)  \\\n",
       "userId                                                              \n",
       "1                                           -0.145752    0.064487   \n",
       "2                                           -0.060314    0.076560   \n",
       "3                                           -0.068337    0.106521   \n",
       "4                                           -0.021668    0.162080   \n",
       "5                                           -0.062534    0.149113   \n",
       "\n",
       "title   ¡Three Amigos! (1986)  À nous la liberté (Freedom for Us) (1931)  \\\n",
       "userId                                                                     \n",
       "1                    0.331806                                  -0.132811   \n",
       "2                    0.171733                                  -0.064674   \n",
       "3                    0.148565                                  -0.064762   \n",
       "4                    0.325452                                  -0.025036   \n",
       "5                    0.201610                                  -0.056455   \n",
       "\n",
       "title   İtirazım Var (2014)  \n",
       "userId                       \n",
       "1                 -0.151299  \n",
       "2                 -0.064960  \n",
       "3                 -0.074622  \n",
       "4                 -0.037235  \n",
       "5                 -0.072901  \n",
       "\n",
       "[5 rows x 8381 columns]"
      ]
     },
     "execution_count": 28,
     "metadata": {},
     "output_type": "execute_result"
    }
   ],
   "source": [
    "user_based.head()"
   ]
  },
  {
   "cell_type": "markdown",
   "metadata": {},
   "source": [
    "Now we look at the predicted ratings (user-based) for movies the user has not rated yet."
   ]
  },
  {
   "cell_type": "code",
   "execution_count": 29,
   "metadata": {},
   "outputs": [
    {
     "name": "stdout",
     "output_type": "stream",
     "text": [
      "                                  Predicted Rating\n",
      "title                                             \n",
      "Pulp Fiction (1994)                       2.315955\n",
      "Shawshank Redemption, The (1994)          2.307362\n",
      "Silence of the Lambs, The (1991)          2.143021\n"
     ]
    }
   ],
   "source": [
    "# Predictions for movies the user 5 hasn't rated yet\n",
    "user_predictions = user_based.loc[5,pd.DataFrame(ratings_pivot_train).loc[5,:] == 0]\n",
    "user_top = user_predictions.sort_values(ascending = False).head(3)\n",
    "user_recommendations = pd.DataFrame(data = user_top)\n",
    "user_recommendations.columns = ['Predicted Rating']\n",
    "print(user_recommendations)"
   ]
  },
  {
   "cell_type": "markdown",
   "metadata": {},
   "source": [
    "As we can see above, user 5 is predicted to rate the movies: Pulp Fiction (1994), Shawshank Redemption, The (1994) and Silence of the Lambs, The (1991) very low ratings compared to the mean of the overall ratings in the dataset. "
   ]
  },
  {
   "cell_type": "code",
   "execution_count": 30,
   "metadata": {},
   "outputs": [],
   "source": [
    "item_based = pd.DataFrame(movie_prediction,ratings_pivot_train.index, columns = ratings_pivot_train.columns)"
   ]
  },
  {
   "cell_type": "code",
   "execution_count": 31,
   "metadata": {},
   "outputs": [
    {
     "data": {
      "text/html": [
       "<div>\n",
       "<style scoped>\n",
       "    .dataframe tbody tr th:only-of-type {\n",
       "        vertical-align: middle;\n",
       "    }\n",
       "\n",
       "    .dataframe tbody tr th {\n",
       "        vertical-align: top;\n",
       "    }\n",
       "\n",
       "    .dataframe thead th {\n",
       "        text-align: right;\n",
       "    }\n",
       "</style>\n",
       "<table border=\"1\" class=\"dataframe\">\n",
       "  <thead>\n",
       "    <tr style=\"text-align: right;\">\n",
       "      <th>title</th>\n",
       "      <th>\"Great Performances\" Cats (1998)</th>\n",
       "      <th>$9.99 (2008)</th>\n",
       "      <th>'Hellboy': The Seeds of Creation (2004)</th>\n",
       "      <th>'Neath the Arizona Skies (1934)</th>\n",
       "      <th>'Round Midnight (1986)</th>\n",
       "      <th>'Til There Was You (1997)</th>\n",
       "      <th>'burbs, The (1989)</th>\n",
       "      <th>'night Mother (1986)</th>\n",
       "      <th>(500) Days of Summer (2009)</th>\n",
       "      <th>*batteries not included (1987)</th>\n",
       "      <th>...</th>\n",
       "      <th>Zorn's Lemma (1970)</th>\n",
       "      <th>Zorro, the Gay Blade (1981)</th>\n",
       "      <th>Zulu (1964)</th>\n",
       "      <th>[REC] (2007)</th>\n",
       "      <th>eXistenZ (1999)</th>\n",
       "      <th>loudQUIETloud: A Film About the Pixies (2006)</th>\n",
       "      <th>xXx (2002)</th>\n",
       "      <th>¡Three Amigos! (1986)</th>\n",
       "      <th>À nous la liberté (Freedom for Us) (1931)</th>\n",
       "      <th>İtirazım Var (2014)</th>\n",
       "    </tr>\n",
       "    <tr>\n",
       "      <th>userId</th>\n",
       "      <th></th>\n",
       "      <th></th>\n",
       "      <th></th>\n",
       "      <th></th>\n",
       "      <th></th>\n",
       "      <th></th>\n",
       "      <th></th>\n",
       "      <th></th>\n",
       "      <th></th>\n",
       "      <th></th>\n",
       "      <th></th>\n",
       "      <th></th>\n",
       "      <th></th>\n",
       "      <th></th>\n",
       "      <th></th>\n",
       "      <th></th>\n",
       "      <th></th>\n",
       "      <th></th>\n",
       "      <th></th>\n",
       "      <th></th>\n",
       "      <th></th>\n",
       "    </tr>\n",
       "  </thead>\n",
       "  <tbody>\n",
       "    <tr>\n",
       "      <th>1</th>\n",
       "      <td>-0.064463</td>\n",
       "      <td>-0.158271</td>\n",
       "      <td>-0.386549</td>\n",
       "      <td>0.076041</td>\n",
       "      <td>0.076041</td>\n",
       "      <td>-0.113341</td>\n",
       "      <td>-0.122089</td>\n",
       "      <td>-0.110157</td>\n",
       "      <td>-0.021132</td>\n",
       "      <td>-0.191965</td>\n",
       "      <td>...</td>\n",
       "      <td>-0.151409</td>\n",
       "      <td>-0.337343</td>\n",
       "      <td>-0.209220</td>\n",
       "      <td>-0.190912</td>\n",
       "      <td>-0.077847</td>\n",
       "      <td>-0.495839</td>\n",
       "      <td>-0.133787</td>\n",
       "      <td>-0.082865</td>\n",
       "      <td>-0.213141</td>\n",
       "      <td>-0.213421</td>\n",
       "    </tr>\n",
       "    <tr>\n",
       "      <th>2</th>\n",
       "      <td>0.054392</td>\n",
       "      <td>-0.083602</td>\n",
       "      <td>-0.199325</td>\n",
       "      <td>-0.032487</td>\n",
       "      <td>-0.032487</td>\n",
       "      <td>-0.026990</td>\n",
       "      <td>-0.024234</td>\n",
       "      <td>-0.026421</td>\n",
       "      <td>0.057394</td>\n",
       "      <td>-0.062221</td>\n",
       "      <td>...</td>\n",
       "      <td>-0.093976</td>\n",
       "      <td>-0.135322</td>\n",
       "      <td>-0.100097</td>\n",
       "      <td>-0.120863</td>\n",
       "      <td>0.008299</td>\n",
       "      <td>-0.297994</td>\n",
       "      <td>-0.034849</td>\n",
       "      <td>0.025179</td>\n",
       "      <td>-0.195882</td>\n",
       "      <td>-0.134358</td>\n",
       "    </tr>\n",
       "    <tr>\n",
       "      <th>3</th>\n",
       "      <td>-0.064463</td>\n",
       "      <td>-0.090004</td>\n",
       "      <td>-0.211856</td>\n",
       "      <td>-0.342564</td>\n",
       "      <td>-0.342564</td>\n",
       "      <td>-0.073151</td>\n",
       "      <td>-0.050735</td>\n",
       "      <td>-0.067457</td>\n",
       "      <td>0.073582</td>\n",
       "      <td>-0.110105</td>\n",
       "      <td>...</td>\n",
       "      <td>-0.110144</td>\n",
       "      <td>-0.167309</td>\n",
       "      <td>-0.144916</td>\n",
       "      <td>-0.071197</td>\n",
       "      <td>-0.009698</td>\n",
       "      <td>-0.268611</td>\n",
       "      <td>-0.042536</td>\n",
       "      <td>-0.014785</td>\n",
       "      <td>-0.121538</td>\n",
       "      <td>-0.102879</td>\n",
       "    </tr>\n",
       "    <tr>\n",
       "      <th>4</th>\n",
       "      <td>0.327217</td>\n",
       "      <td>0.120793</td>\n",
       "      <td>0.409520</td>\n",
       "      <td>-0.117758</td>\n",
       "      <td>-0.117758</td>\n",
       "      <td>0.248748</td>\n",
       "      <td>0.281886</td>\n",
       "      <td>0.219126</td>\n",
       "      <td>0.276582</td>\n",
       "      <td>0.324747</td>\n",
       "      <td>...</td>\n",
       "      <td>0.142510</td>\n",
       "      <td>0.421917</td>\n",
       "      <td>0.298663</td>\n",
       "      <td>0.047565</td>\n",
       "      <td>0.277884</td>\n",
       "      <td>0.670664</td>\n",
       "      <td>0.257804</td>\n",
       "      <td>0.403997</td>\n",
       "      <td>0.091207</td>\n",
       "      <td>-0.151195</td>\n",
       "    </tr>\n",
       "    <tr>\n",
       "      <th>5</th>\n",
       "      <td>0.210524</td>\n",
       "      <td>-0.019084</td>\n",
       "      <td>-0.047482</td>\n",
       "      <td>-0.094502</td>\n",
       "      <td>-0.094502</td>\n",
       "      <td>0.001511</td>\n",
       "      <td>0.062107</td>\n",
       "      <td>-0.014269</td>\n",
       "      <td>0.227074</td>\n",
       "      <td>0.062408</td>\n",
       "      <td>...</td>\n",
       "      <td>-0.006058</td>\n",
       "      <td>0.023768</td>\n",
       "      <td>0.045341</td>\n",
       "      <td>0.014489</td>\n",
       "      <td>0.076681</td>\n",
       "      <td>0.017873</td>\n",
       "      <td>0.102169</td>\n",
       "      <td>0.108943</td>\n",
       "      <td>0.032295</td>\n",
       "      <td>-0.098487</td>\n",
       "    </tr>\n",
       "  </tbody>\n",
       "</table>\n",
       "<p>5 rows × 8381 columns</p>\n",
       "</div>"
      ],
      "text/plain": [
       "title   \"Great Performances\" Cats (1998)  $9.99 (2008)  \\\n",
       "userId                                                   \n",
       "1                              -0.064463     -0.158271   \n",
       "2                               0.054392     -0.083602   \n",
       "3                              -0.064463     -0.090004   \n",
       "4                               0.327217      0.120793   \n",
       "5                               0.210524     -0.019084   \n",
       "\n",
       "title   'Hellboy': The Seeds of Creation (2004)  \\\n",
       "userId                                            \n",
       "1                                     -0.386549   \n",
       "2                                     -0.199325   \n",
       "3                                     -0.211856   \n",
       "4                                      0.409520   \n",
       "5                                     -0.047482   \n",
       "\n",
       "title   'Neath the Arizona Skies (1934)  'Round Midnight (1986)  \\\n",
       "userId                                                            \n",
       "1                              0.076041                0.076041   \n",
       "2                             -0.032487               -0.032487   \n",
       "3                             -0.342564               -0.342564   \n",
       "4                             -0.117758               -0.117758   \n",
       "5                             -0.094502               -0.094502   \n",
       "\n",
       "title   'Til There Was You (1997)  'burbs, The (1989)  'night Mother (1986)  \\\n",
       "userId                                                                        \n",
       "1                       -0.113341           -0.122089             -0.110157   \n",
       "2                       -0.026990           -0.024234             -0.026421   \n",
       "3                       -0.073151           -0.050735             -0.067457   \n",
       "4                        0.248748            0.281886              0.219126   \n",
       "5                        0.001511            0.062107             -0.014269   \n",
       "\n",
       "title   (500) Days of Summer (2009)  *batteries not included (1987)  \\\n",
       "userId                                                                \n",
       "1                         -0.021132                       -0.191965   \n",
       "2                          0.057394                       -0.062221   \n",
       "3                          0.073582                       -0.110105   \n",
       "4                          0.276582                        0.324747   \n",
       "5                          0.227074                        0.062408   \n",
       "\n",
       "title          ...           Zorn's Lemma (1970)  Zorro, the Gay Blade (1981)  \\\n",
       "userId         ...                                                              \n",
       "1              ...                     -0.151409                    -0.337343   \n",
       "2              ...                     -0.093976                    -0.135322   \n",
       "3              ...                     -0.110144                    -0.167309   \n",
       "4              ...                      0.142510                     0.421917   \n",
       "5              ...                     -0.006058                     0.023768   \n",
       "\n",
       "title   Zulu (1964)  [REC] (2007)  eXistenZ (1999)  \\\n",
       "userId                                               \n",
       "1         -0.209220     -0.190912        -0.077847   \n",
       "2         -0.100097     -0.120863         0.008299   \n",
       "3         -0.144916     -0.071197        -0.009698   \n",
       "4          0.298663      0.047565         0.277884   \n",
       "5          0.045341      0.014489         0.076681   \n",
       "\n",
       "title   loudQUIETloud: A Film About the Pixies (2006)  xXx (2002)  \\\n",
       "userId                                                              \n",
       "1                                           -0.495839   -0.133787   \n",
       "2                                           -0.297994   -0.034849   \n",
       "3                                           -0.268611   -0.042536   \n",
       "4                                            0.670664    0.257804   \n",
       "5                                            0.017873    0.102169   \n",
       "\n",
       "title   ¡Three Amigos! (1986)  À nous la liberté (Freedom for Us) (1931)  \\\n",
       "userId                                                                     \n",
       "1                   -0.082865                                  -0.213141   \n",
       "2                    0.025179                                  -0.195882   \n",
       "3                   -0.014785                                  -0.121538   \n",
       "4                    0.403997                                   0.091207   \n",
       "5                    0.108943                                   0.032295   \n",
       "\n",
       "title   İtirazım Var (2014)  \n",
       "userId                       \n",
       "1                 -0.213421  \n",
       "2                 -0.134358  \n",
       "3                 -0.102879  \n",
       "4                 -0.151195  \n",
       "5                 -0.098487  \n",
       "\n",
       "[5 rows x 8381 columns]"
      ]
     },
     "execution_count": 31,
     "metadata": {},
     "output_type": "execute_result"
    }
   ],
   "source": [
    "item_based.head()"
   ]
  },
  {
   "cell_type": "markdown",
   "metadata": {},
   "source": [
    "Now we look at the predicted ratings (item-based) for movies the user has not rated yet. "
   ]
  },
  {
   "cell_type": "code",
   "execution_count": 32,
   "metadata": {},
   "outputs": [
    {
     "name": "stdout",
     "output_type": "stream",
     "text": [
      "                                  Predicted Rating\n",
      "title                                             \n",
      "Shawshank Redemption, The (1994)          1.684264\n",
      "Pulp Fiction (1994)                       1.646671\n",
      "Silence of the Lambs, The (1991)          1.492489\n"
     ]
    }
   ],
   "source": [
    "# Predictions for movies that the user 5 hasn't rated yet\n",
    "item_predictions = item_based.loc[5,pd.DataFrame(ratings_pivot_train).loc[5,:] == 0]\n",
    "item_top = item_predictions.sort_values(ascending = False).head(3)\n",
    "item_recommendations = pd.DataFrame(data = item_top)\n",
    "item_recommendations.columns = ['Predicted Rating']\n",
    "print(item_recommendations)"
   ]
  },
  {
   "cell_type": "markdown",
   "metadata": {},
   "source": [
    "As we can see above, user 5 is predicted to rate the movies: Pulp Fiction (1994), Shawshank Redemption, The (1994) and Silence of the Lambs, The (1991) very low ratings. The first two recommendations (Shawshank Redemption,Pulp Fiction (1994) The (1994)) of appeared to rated a lot lower than the user-based model above."
   ]
  },
  {
   "cell_type": "markdown",
   "metadata": {},
   "source": [
    "## Model-Based Collaborative Recommender System"
   ]
  },
  {
   "cell_type": "markdown",
   "metadata": {},
   "source": [
    "In Model-Based Collaborative Recommender Systems involve building a model based on the dataset of ratings. In other words, we extract some information from the dataset, and use that as a \"model\" to make recommendations without having to use the complete dataset every time. For our model, we will use matrix factorization (MF) such as Singular Value Decomposition (SVD). So we are going to show you this method for faster processing when computing predictions. "
   ]
  },
  {
   "cell_type": "code",
   "execution_count": 33,
   "metadata": {},
   "outputs": [],
   "source": [
    "#get SVD components from train matrix. Choose k.\n",
    "u, s, vt = svds(ratings_pivot_train, k = 24) # you can adjust the dimensionality for the rank matrix\n",
    "s_diag_matrix = np.diag(s)\n",
    "X_pred = np.dot(np.dot(u, s_diag_matrix), vt)"
   ]
  },
  {
   "cell_type": "markdown",
   "metadata": {},
   "source": [
    "### Model-Based Collaborative System Evaluation"
   ]
  },
  {
   "cell_type": "markdown",
   "metadata": {},
   "source": [
    "Now we print out the model-based root square mean error along with their accuracy."
   ]
  },
  {
   "cell_type": "code",
   "execution_count": 34,
   "metadata": {},
   "outputs": [
    {
     "name": "stdout",
     "output_type": "stream",
     "text": [
      "Matrix-Factorization CF RMSE: 3.60\n",
      "Matrix-Factorization CF RMSE: 96.40\n"
     ]
    }
   ],
   "source": [
    "print('Matrix-Factorization CF RMSE: %.2f' %rmse(X_pred, ratings_pivot_test.values))\n",
    "print('Matrix-Factorization CF RMSE: %.2f' %(100 - rmse(X_pred, ratings_pivot_test.values)))"
   ]
  },
  {
   "cell_type": "markdown",
   "metadata": {},
   "source": [
    "Store all ratings for each user in a dataframe."
   ]
  },
  {
   "cell_type": "code",
   "execution_count": 35,
   "metadata": {},
   "outputs": [],
   "source": [
    "svd_based_user = pd.DataFrame(X_pred, index = ratings_pivot_train.index, columns = ratings_pivot_train.columns)"
   ]
  },
  {
   "cell_type": "markdown",
   "metadata": {},
   "source": [
    "Now we look at the predicted ratings (user model-based) for movies the user has not rated yet. "
   ]
  },
  {
   "cell_type": "code",
   "execution_count": 36,
   "metadata": {},
   "outputs": [
    {
     "name": "stdout",
     "output_type": "stream",
     "text": [
      "                        Predicted Rating\n",
      "title                                   \n",
      "American Beauty (1999)          1.744064\n",
      "Titanic (1997)                  1.597986\n",
      "Finding Nemo (2003)             1.593203\n"
     ]
    }
   ],
   "source": [
    "# Predictions for movies that the user 5 hasn't rated yet\n",
    "svd_predictions = svd_based_user.loc[5,pd.DataFrame(ratings_pivot_train).loc[5,:] == 0]\n",
    "svd_top = svd_predictions.sort_values(ascending = False).head(3)\n",
    "svd_recommendations = pd.DataFrame(data = svd_top)\n",
    "svd_recommendations.columns = ['Predicted Rating']\n",
    "print(svd_recommendations)"
   ]
  },
  {
   "cell_type": "markdown",
   "metadata": {},
   "source": [
    "For the SVD model (user-based), user 5 rated very low on movies, American Beauty (1999)), Titanic (1997, and Finding Nemo (2003)"
   ]
  },
  {
   "cell_type": "markdown",
   "metadata": {},
   "source": [
    "## Content-Based Recommender System "
   ]
  },
  {
   "cell_type": "markdown",
   "metadata": {},
   "source": [
    "Let's begin by building a Content-Based Recommendation System that computes the similarity between movies based on genres. It will suggest movies that are most similar to a particular movie based on its genre. The idea is if an individual likes an item, then individual will also like a **similar** item."
   ]
  },
  {
   "cell_type": "code",
   "execution_count": 37,
   "metadata": {},
   "outputs": [],
   "source": [
    "# Break up the genres into a string array\n",
    "movies['genres'] = movies['genres'].str.split('|')\n",
    "# Convert genres to string value\n",
    "movies['genres'] = movies['genres'].fillna(\"\").astype('str')"
   ]
  },
  {
   "cell_type": "markdown",
   "metadata": {},
   "source": [
    "Here we are going to use **TfidfVectorizer** function to transform genres to feature vectors.\n",
    "\n",
    "**TF** stands for Term Frequency. It tells us about how often does the term you are talking about appear in the document? \n",
    "\n",
    "**IDF** stands for **Inverse Document Frequency**. It tells us how rare it is for a document to have this term or for a tag to be applied to the movie"
   ]
  },
  {
   "cell_type": "code",
   "execution_count": 38,
   "metadata": {},
   "outputs": [
    {
     "data": {
      "text/plain": [
       "(9125, 178)"
      ]
     },
     "execution_count": 38,
     "metadata": {},
     "output_type": "execute_result"
    }
   ],
   "source": [
    "tf = TfidfVectorizer(analyzer = 'word',ngram_range = (1, 2),min_df = 0, stop_words ='english')\n",
    "movies['genres'] = movies['genres'].fillna('')\n",
    "tfidf_matrix = tf.fit_transform(movies['genres'])\n",
    "tfidf_matrix.shape "
   ]
  },
  {
   "cell_type": "markdown",
   "metadata": {},
   "source": [
    "Now let's compute the cosine similarity between each vector. Also, there are other metrics avaliable one can use such as: euclidean, jaccard, manhattan, and correlation. "
   ]
  },
  {
   "cell_type": "code",
   "execution_count": 39,
   "metadata": {},
   "outputs": [
    {
     "data": {
      "text/plain": [
       "array([[1.        , 0.3143214 , 0.06298761, 0.05483312],\n",
       "       [0.3143214 , 1.        , 0.        , 0.        ],\n",
       "       [0.06298761, 0.        , 1.        , 0.35539525],\n",
       "       [0.05483312, 0.        , 0.35539525, 1.        ]])"
      ]
     },
     "execution_count": 39,
     "metadata": {},
     "output_type": "execute_result"
    }
   ],
   "source": [
    "cosine_sim = cosine_similarity(tfidf_matrix, tfidf_matrix)\n",
    "cosine_sim[:4, :4]"
   ]
  },
  {
   "cell_type": "markdown",
   "metadata": {},
   "source": [
    "Before we can begin making movie recommendations, let's follow these steps below:"
   ]
  },
  {
   "cell_type": "markdown",
   "metadata": {},
   "source": [
    "  - Get the index of the movie given its title.\n",
    "  - Get the list of cosine similarity scores for that particular movie with all movies. Convert it into a list of tuples where the first element is its position and the second is the similarity score.\n",
    "  - Sort the aforementioned list of tuples based on the similarity scores; that is, the second element.\n",
    "  - Get the top 10 elements of this list. \n",
    "  - Return the titles corresponding to the indices of the top elements."
   ]
  },
  {
   "cell_type": "code",
   "execution_count": 40,
   "metadata": {},
   "outputs": [],
   "source": [
    "# Build a 1-dimensional array with movie titles\n",
    "titles = movies['title']\n",
    "indices = pd.Series(movies.index, index = movies['title']).drop_duplicates()\n",
    "\n",
    "# Function that get movie recommendations based on the cosine similarity score of movie genres\n",
    "def genre_recommendations(title):\n",
    "    idx = indices[title] #get indices of movies titles\n",
    "    sim_scores = list(enumerate(cosine_sim[idx])) # map indices with similarities\n",
    "    sim_scores = sorted(sim_scores, key = lambda x: x[1], reverse = True) # sort from highest to lowest\n",
    "    sim_scores = sim_scores[1:11]\n",
    "    movie_indices = [i[0] for i in sim_scores]\n",
    "    recommendations = titles.iloc[movie_indices]# map the movie titles with indexes from the similarity scores\n",
    "    for movies in recommendations[0:5]:\n",
    "        #ignore duplicate recommendations same as (title)\n",
    "        if movies != title:\n",
    "            print(movies)"
   ]
  },
  {
   "cell_type": "markdown",
   "metadata": {},
   "source": [
    "Here our recommender system had done a pretty good job finding movies with similar genres. The movie ***Toy Story (1995)*** (Animation, Children's, Comedy) had returned the top 5 movies that are most similair based on genres."
   ]
  },
  {
   "cell_type": "code",
   "execution_count": 41,
   "metadata": {},
   "outputs": [
    {
     "name": "stdout",
     "output_type": "stream",
     "text": [
      "Antz (1998)\n",
      "Toy Story 2 (1999)\n",
      "Adventures of Rocky and Bullwinkle, The (2000)\n",
      "Emperor's New Groove, The (2000)\n",
      "Monsters, Inc. (2001)\n"
     ]
    }
   ],
   "source": [
    "genre_recommendations(\"Toy Story (1995)\")"
   ]
  },
  {
   "cell_type": "markdown",
   "metadata": {},
   "source": [
    "Here are the pros of using content-based recommendation:\n",
    "\n",
    " - Recommend items based on flexible features such as book title, movie description, phrases. \n",
    " - New items can be suggested before being rated by a substantial number of users.\n",
    " - Can recommend new and unpopular items.\n",
    " \n",
    "However, there are some cons of using this approach:\n",
    "\n",
    " - Finding the appropriate features is hard.\n",
    " - Does not recommend items outside a user's content profile.\n",
    " - Provides a limit degree of novelty, since it has to match up the features of profile and items."
   ]
  }
 ],
 "metadata": {
  "kernelspec": {
   "display_name": "Python 3",
   "language": "python",
   "name": "python3"
  },
  "language_info": {
   "codemirror_mode": {
    "name": "ipython",
    "version": 3
   },
   "file_extension": ".py",
   "mimetype": "text/x-python",
   "name": "python",
   "nbconvert_exporter": "python",
   "pygments_lexer": "ipython3",
   "version": "3.6.5"
  }
 },
 "nbformat": 4,
 "nbformat_minor": 2
}
